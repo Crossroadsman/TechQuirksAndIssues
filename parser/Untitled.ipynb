{
 "cells": [
  {
   "cell_type": "code",
   "execution_count": 1,
   "metadata": {},
   "outputs": [],
   "source": [
    "import datetime\n",
    "import urllib\n",
    "\n",
    "\n",
    "FILE_URL = \"https://raw.githubusercontent.com/Crossroadsman/TechQuirksAndIssues/master/issues.txt\"\n",
    "FILENAME = \"../issues.txt\""
   ]
  },
  {
   "cell_type": "code",
   "execution_count": 2,
   "metadata": {},
   "outputs": [],
   "source": [
    "class Issue:\n",
    "    \n",
    "    def __init__(\n",
    "        self,\n",
    "        ID,\n",
    "        title,\n",
    "        date_filed,\n",
    "        observed_on,\n",
    "        keywords,\n",
    "        search_query,\n",
    "        solution_summary,\n",
    "        solution_url,\n",
    "        status,\n",
    "        comments=[],\n",
    "        **kwargs\n",
    "    ):\n",
    "        self.ID = ID\n",
    "        self.title = title\n",
    "        self.date_filed = date_filed\n",
    "        self.observed_on = observed_on\n",
    "        self.keywords = keywords\n",
    "        self.search_query = search_query\n",
    "        self.solution_summary = solution_summary\n",
    "        self.solution_url = solution_url\n",
    "        self.status = status\n",
    "        self.comments = comments\n",
    "        \n",
    "        for key, value in kwargs:\n",
    "            setattr(self, key, value)\n",
    "\n",
    "    def __str__(self):\n",
    "        return f'{self.ID}: {self.title}'\n",
    "\n",
    "    def __repr__(self):\n",
    "        return f'{self.ID}: {self.title}'"
   ]
  },
  {
   "cell_type": "code",
   "execution_count": 3,
   "metadata": {},
   "outputs": [],
   "source": [
    "class IssueParser:\n",
    "    \n",
    "    state_in_record = False\n",
    "    current_issue = {}\n",
    "    issues = []\n",
    "    \n",
    "    def read_file(self, filename):\n",
    "        with open(filename) as fh:\n",
    "            for i, line in enumerate(fh):\n",
    "                self.parse_line(line, i+1)\n",
    "        \n",
    "        if self.current_issue != {}:  # file didn't end with `''`, last issue still open\n",
    "            print(f'attempting to write final issue: {self.current_issue}')\n",
    "            self.issues.append(Issue(**self.current_issue))\n",
    "            self.current_issue = {}\n",
    "            self.state_in_record = False\n",
    "        return self.issues\n",
    "\n",
    "    def read_url(self, url):\n",
    "        # Requires file to be in UTF-8\n",
    "        file_data = urllib.request.urlopen(url)\n",
    "        for i, line in enumerate(file_data):\n",
    "            self.parse_line(line.decode('utf-8'), i+1)\n",
    "        if self.current_issue != {}:  # file didn't end with `''`, last issue still open\n",
    "            print(f'attempting to write final issue: {self.current_issue}')\n",
    "            self.issues.append(Issue(**self.current_issue))\n",
    "            self.current_issue = {}\n",
    "            self.state_in_record = False\n",
    "        return self.issues\n",
    "\n",
    "    def parse_line(self, line, line_number=None):\n",
    "        if line_number:\n",
    "            print(f'PARSING LINE #{line_number}: {line}')\n",
    "        else:\n",
    "            print(f\"PARSING LINE: {line}\")\n",
    "\n",
    "        if not self.state_in_record:\n",
    "            print(\"Not in a record\")\n",
    "            # Wait until we get to a line that initiates a record\n",
    "            # (or EOF)\n",
    "            # - ID:\n",
    "            # - new record marker\n",
    "            # - EOF\n",
    "            if line == '--------\\n':\n",
    "                print(\"new record marker\")\n",
    "                self.state_in_record = True\n",
    "            elif line == '':\n",
    "                print(\"EOF\")\n",
    "            else:  # check for ID\n",
    "                print(\"checking if ID...\")\n",
    "                key, colon, value = line.partition(':')\n",
    "                if key == 'ID':\n",
    "                    print(\"...yes\")\n",
    "                    self.state_in_record = True\n",
    "                    self.handle_id(value)\n",
    "            \n",
    "        else:  # we are in a record\n",
    "            print(\"in a record\")\n",
    "            # 1. Check if we are exiting a record\n",
    "            # - EOF (line='')\n",
    "            # - new record marker\n",
    "            # if so, create an issue from `current_issue` and append it\n",
    "            # to `issues`\n",
    "            if line in (\n",
    "                '--------\\n',\n",
    "                '',\n",
    "            ):\n",
    "                print(f\"attempting to write: {self.current_issue}\")\n",
    "                self.issues.append(Issue(**self.current_issue))\n",
    "                self.current_issue = {}\n",
    "                if line == '':\n",
    "                    self.state_in_record = False\n",
    "                return\n",
    "            \n",
    "            # not new record marker nor EOF:\n",
    "            # 2. Otherwise handle the line\n",
    "            if line[0] == \"#\":\n",
    "                print(f'Line parsed as comment: {line}')\n",
    "                self.handle_comment(line)\n",
    "                return\n",
    "\n",
    "            print(f'partitioning line: {line}')\n",
    "            key, colon, value = line.partition(':')\n",
    "            key = key.lower().replace(' ','_')\n",
    "            if colon:\n",
    "                expected_handler = f'handle_{key}'\n",
    "                print(f'looking for handler: {expected_handler}...')\n",
    "\n",
    "                if hasattr(self, expected_handler):\n",
    "                    print('...found')\n",
    "                    handler = getattr(self, expected_handler)\n",
    "                    handler(value)\n",
    "                    \n",
    "                else:  # no specific handler\n",
    "                    print('...not found, using generic handler')\n",
    "                    self.handle_generic(key, value)\n",
    "                return\n",
    "            \n",
    "            else:  # ignore the line\n",
    "                print(f\"ignoring line: {line}\")\n",
    "    \n",
    "    def handle_generic(self, key, value):\n",
    "        self.current_issue[key] = value\n",
    "\n",
    "    def handle_comment(self, value):\n",
    "        list_ = self.current_issue.setdefault('comments', [])\n",
    "        list_.append(value)\n",
    "\n",
    "    def handle_id(self, value):\n",
    "        try:\n",
    "            ID = int(value)\n",
    "        except ValueError:\n",
    "            raise ValueError(\n",
    "                f'ID must be coerceable into an integer, \"{value}\" was supplied'\n",
    "            )\n",
    "        else:\n",
    "            self.current_issue['ID'] = ID\n",
    "\n",
    "    def handle_title(self, value):\n",
    "        self.current_issue['title'] = value\n",
    "\n",
    "    def handle_date_filed(self, value):\n",
    "        DATE_FORMAT = \"%Y-%m-%dT%H:%M:%S%z\"\n",
    "        dt = datetime.datetime.strptime(value.strip(), DATE_FORMAT)\n",
    "        self.current_issue['date_filed'] = dt\n",
    "\n",
    "    def handle_observed_on(self, value):\n",
    "        self.current_issue['observed_on'] = value\n",
    "\n",
    "    def handle_keywords(self, value):\n",
    "        l = value.split(\",\")\n",
    "        l = [x.strip().strip('\"') for x in l]\n",
    "        self.current_issue['keywords'] = l\n",
    "\n",
    "    def handle_google_query(self, value):\n",
    "        self.current_issue['search_query'] = value\n",
    "\n",
    "    def handle_solution_summary(self, value):\n",
    "        self.current_issue['solution_summary'] = value\n",
    "        \n",
    "    def handle_solution_url(self, value):\n",
    "        self.current_issue['solution_url'] = value\n",
    "\n",
    "    def handle_status(self, value):\n",
    "        self.current_issue['status'] = value\n",
    "\n",
    "    "
   ]
  },
  {
   "cell_type": "code",
   "execution_count": 4,
   "metadata": {},
   "outputs": [],
   "source": [
    "ip = IssueParser()"
   ]
  },
  {
   "cell_type": "code",
   "execution_count": 5,
   "metadata": {},
   "outputs": [
    {
     "name": "stdout",
     "output_type": "stream",
     "text": [
      "PARSING LINE #1: # Fields are separated with newlines\n",
      "\n",
      "Not in a record\n",
      "checking if ID...\n",
      "PARSING LINE #2: # Lines beginning with # are comments\n",
      "\n",
      "Not in a record\n",
      "checking if ID...\n",
      "PARSING LINE #3: # A line containing eight dashes then a newline is used to break records\n",
      "\n",
      "Not in a record\n",
      "checking if ID...\n",
      "PARSING LINE #4: # The first \": \" on each line indicates the field name, field value separator\n",
      "\n",
      "Not in a record\n",
      "checking if ID...\n",
      "PARSING LINE #5: # Lines containing only whitespace are ignored\n",
      "\n",
      "Not in a record\n",
      "checking if ID...\n",
      "PARSING LINE #6: \n",
      "\n",
      "Not in a record\n",
      "checking if ID...\n",
      "PARSING LINE #7: ID: 1\n",
      "\n",
      "Not in a record\n",
      "checking if ID...\n",
      "...yes\n",
      "PARSING LINE #8: Title: MacOS Slow Finder Quicklook Previews\n",
      "\n",
      "in a record\n",
      "partitioning line: Title: MacOS Slow Finder Quicklook Previews\n",
      "\n",
      "looking for handler: handle_title...\n",
      "...found\n",
      "PARSING LINE #9: Date Filed: 2020-04-03T12:32:30-0600\n",
      "\n",
      "in a record\n",
      "partitioning line: Date Filed: 2020-04-03T12:32:30-0600\n",
      "\n",
      "looking for handler: handle_date_filed...\n",
      "...found\n",
      "PARSING LINE #10: Observed on: MacPro6,1 / MacOS 10.13.6\n",
      "\n",
      "in a record\n",
      "partitioning line: Observed on: MacPro6,1 / MacOS 10.13.6\n",
      "\n",
      "looking for handler: handle_observed_on...\n",
      "...found\n",
      "PARSING LINE #11: Keywords: \"MacOS\", \"High Sierra\", \"Finder\", \"Quicklook\", \"Slow\", \"Preview\"\n",
      "\n",
      "in a record\n",
      "partitioning line: Keywords: \"MacOS\", \"High Sierra\", \"Finder\", \"Quicklook\", \"Slow\", \"Preview\"\n",
      "\n",
      "looking for handler: handle_keywords...\n",
      "...found\n",
      "PARSING LINE #12: Google Query: \"finder slow to render image preview\"\n",
      "\n",
      "in a record\n",
      "partitioning line: Google Query: \"finder slow to render image preview\"\n",
      "\n",
      "looking for handler: handle_google_query...\n",
      "...found\n",
      "PARSING LINE #13: Solution Summary: Issue with shared cache, enter the command `sudo update_dyld_shared_cache -force` then reboot\n",
      "\n",
      "in a record\n",
      "partitioning line: Solution Summary: Issue with shared cache, enter the command `sudo update_dyld_shared_cache -force` then reboot\n",
      "\n",
      "looking for handler: handle_solution_summary...\n",
      "...found\n",
      "PARSING LINE #14: Solution URL: https://www.quora.com/Why-is-the-preview-window-in-the-Mac-Finder-so-slow\n",
      "\n",
      "in a record\n",
      "partitioning line: Solution URL: https://www.quora.com/Why-is-the-preview-window-in-the-Mac-Finder-so-slow\n",
      "\n",
      "looking for handler: handle_solution_url...\n",
      "...found\n",
      "PARSING LINE #15: Status: Tentative Solved\n",
      "\n",
      "in a record\n",
      "partitioning line: Status: Tentative Solved\n",
      "\n",
      "looking for handler: handle_status...\n",
      "...found\n",
      "PARSING LINE #16: --------\n",
      "\n",
      "in a record\n",
      "attempting to write: {'ID': 1, 'title': ' MacOS Slow Finder Quicklook Previews\\n', 'date_filed': datetime.datetime(2020, 4, 3, 12, 32, 30, tzinfo=datetime.timezone(datetime.timedelta(days=-1, seconds=64800))), 'observed_on': ' MacPro6,1 / MacOS 10.13.6\\n', 'keywords': ['MacOS', 'High Sierra', 'Finder', 'Quicklook', 'Slow', 'Preview'], 'search_query': ' \"finder slow to render image preview\"\\n', 'solution_summary': ' Issue with shared cache, enter the command `sudo update_dyld_shared_cache -force` then reboot\\n', 'solution_url': ' https://www.quora.com/Why-is-the-preview-window-in-the-Mac-Finder-so-slow\\n', 'status': ' Tentative Solved\\n'}\n",
      "PARSING LINE #17: # An example issue for testing\n",
      "\n",
      "in a record\n",
      "Line parsed as comment: # An example issue for testing\n",
      "\n",
      "PARSING LINE #18: ID: 2\n",
      "\n",
      "in a record\n",
      "partitioning line: ID: 2\n",
      "\n",
      "looking for handler: handle_id...\n",
      "...found\n",
      "PARSING LINE #19: Title: Some Title Could Go Here # This is not a valid comment\n",
      "\n",
      "in a record\n",
      "partitioning line: Title: Some Title Could Go Here # This is not a valid comment\n",
      "\n",
      "looking for handler: handle_title...\n",
      "...found\n",
      "PARSING LINE #20: Date Filed: 2020-04-03T12:32:30-0700\n",
      "\n",
      "in a record\n",
      "partitioning line: Date Filed: 2020-04-03T12:32:30-0700\n",
      "\n",
      "looking for handler: handle_date_filed...\n",
      "...found\n",
      "PARSING LINE #21: Observed on: MacPro6,1 / MacOS 10.13.6\n",
      "\n",
      "in a record\n",
      "partitioning line: Observed on: MacPro6,1 / MacOS 10.13.6\n",
      "\n",
      "looking for handler: handle_observed_on...\n",
      "...found\n",
      "PARSING LINE #22: Keywords: \"MacOS\", \"High Sierra\", \"Finder\", \"Quicklook\", \"Slow\", \"Preview\"\n",
      "\n",
      "in a record\n",
      "partitioning line: Keywords: \"MacOS\", \"High Sierra\", \"Finder\", \"Quicklook\", \"Slow\", \"Preview\"\n",
      "\n",
      "looking for handler: handle_keywords...\n",
      "...found\n",
      "PARSING LINE #23: Google Query: \"finder slow to render image preview\"\n",
      "\n",
      "in a record\n",
      "partitioning line: Google Query: \"finder slow to render image preview\"\n",
      "\n",
      "looking for handler: handle_google_query...\n",
      "...found\n",
      "PARSING LINE #24: Solution Summary: Issue with shared cache, enter the command `sudo update_dyld_shared_cache -force` then reboot\n",
      "\n",
      "in a record\n",
      "partitioning line: Solution Summary: Issue with shared cache, enter the command `sudo update_dyld_shared_cache -force` then reboot\n",
      "\n",
      "looking for handler: handle_solution_summary...\n",
      "...found\n",
      "PARSING LINE #25: Solution URL: https://www.quora.com/Why-is-the-preview-window-in-the-Mac-Finder-so-slow\n",
      "\n",
      "in a record\n",
      "partitioning line: Solution URL: https://www.quora.com/Why-is-the-preview-window-in-the-Mac-Finder-so-slow\n",
      "\n",
      "looking for handler: handle_solution_url...\n",
      "...found\n",
      "PARSING LINE #26: Status: Tentative Solved\n",
      "\n",
      "in a record\n",
      "partitioning line: Status: Tentative Solved\n",
      "\n",
      "looking for handler: handle_status...\n",
      "...found\n",
      "attempting to write final issue: {'comments': ['# An example issue for testing\\n'], 'ID': 2, 'title': ' Some Title Could Go Here # This is not a valid comment\\n', 'date_filed': datetime.datetime(2020, 4, 3, 12, 32, 30, tzinfo=datetime.timezone(datetime.timedelta(days=-1, seconds=61200))), 'observed_on': ' MacPro6,1 / MacOS 10.13.6\\n', 'keywords': ['MacOS', 'High Sierra', 'Finder', 'Quicklook', 'Slow', 'Preview'], 'search_query': ' \"finder slow to render image preview\"\\n', 'solution_summary': ' Issue with shared cache, enter the command `sudo update_dyld_shared_cache -force` then reboot\\n', 'solution_url': ' https://www.quora.com/Why-is-the-preview-window-in-the-Mac-Finder-so-slow\\n', 'status': ' Tentative Solved\\n'}\n"
     ]
    }
   ],
   "source": [
    "#issues = ip.read_file(FILENAME)\n",
    "issues = ip.read_url(FILE_URL)"
   ]
  },
  {
   "cell_type": "code",
   "execution_count": 6,
   "metadata": {},
   "outputs": [
    {
     "data": {
      "text/plain": [
       "[1:  MacOS Slow Finder Quicklook Previews,\n",
       " 2:  Some Title Could Go Here # This is not a valid comment]"
      ]
     },
     "execution_count": 6,
     "metadata": {},
     "output_type": "execute_result"
    }
   ],
   "source": [
    "issues"
   ]
  },
  {
   "cell_type": "code",
   "execution_count": 7,
   "metadata": {},
   "outputs": [
    {
     "data": {
      "text/plain": [
       "1:  MacOS Slow Finder Quicklook Previews"
      ]
     },
     "execution_count": 7,
     "metadata": {},
     "output_type": "execute_result"
    }
   ],
   "source": [
    "issues[0]"
   ]
  },
  {
   "cell_type": "code",
   "execution_count": 8,
   "metadata": {},
   "outputs": [
    {
     "data": {
      "text/plain": [
       "datetime.datetime(2020, 4, 3, 12, 32, 30, tzinfo=datetime.timezone(datetime.timedelta(days=-1, seconds=64800)))"
      ]
     },
     "execution_count": 8,
     "metadata": {},
     "output_type": "execute_result"
    }
   ],
   "source": [
    "issues[0].date_filed"
   ]
  },
  {
   "cell_type": "code",
   "execution_count": 9,
   "metadata": {},
   "outputs": [
    {
     "data": {
      "text/plain": [
       "['MacOS', 'High Sierra', 'Finder', 'Quicklook', 'Slow', 'Preview']"
      ]
     },
     "execution_count": 9,
     "metadata": {},
     "output_type": "execute_result"
    }
   ],
   "source": [
    "issues[0].keywords"
   ]
  },
  {
   "cell_type": "code",
   "execution_count": 10,
   "metadata": {},
   "outputs": [
    {
     "data": {
      "text/plain": [
       "2:  Some Title Could Go Here # This is not a valid comment"
      ]
     },
     "execution_count": 10,
     "metadata": {},
     "output_type": "execute_result"
    }
   ],
   "source": [
    "issues[1]"
   ]
  },
  {
   "cell_type": "code",
   "execution_count": 11,
   "metadata": {},
   "outputs": [
    {
     "data": {
      "text/plain": [
       "datetime.datetime(2020, 4, 3, 12, 32, 30, tzinfo=datetime.timezone(datetime.timedelta(days=-1, seconds=61200)))"
      ]
     },
     "execution_count": 11,
     "metadata": {},
     "output_type": "execute_result"
    }
   ],
   "source": [
    "issues[1].date_filed"
   ]
  },
  {
   "cell_type": "code",
   "execution_count": null,
   "metadata": {},
   "outputs": [],
   "source": []
  }
 ],
 "metadata": {
  "kernelspec": {
   "display_name": "Python 3",
   "language": "python",
   "name": "python3"
  },
  "language_info": {
   "codemirror_mode": {
    "name": "ipython",
    "version": 3
   },
   "file_extension": ".py",
   "mimetype": "text/x-python",
   "name": "python",
   "nbconvert_exporter": "python",
   "pygments_lexer": "ipython3",
   "version": "3.7.7"
  }
 },
 "nbformat": 4,
 "nbformat_minor": 4
}
